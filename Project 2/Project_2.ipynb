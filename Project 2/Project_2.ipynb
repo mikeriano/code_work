{
 "cells": [
  {
   "cell_type": "code",
   "execution_count": 2,
   "metadata": {},
   "outputs": [],
   "source": [
    "import pandas as pd\n",
    "import numpy as np\n",
    "import matplotlib.pyplot as plt\n",
    "import plotly\n",
    "import plotly.plotly as py\n",
    "plotly.tools.set_credentials_file(username='mikeriano', api_key='gxerO2sZWw926lsHB5k6')"
   ]
  },
  {
   "cell_type": "code",
   "execution_count": 3,
   "metadata": {},
   "outputs": [],
   "source": [
    "pitch_df = pd.read_csv(\"pitches.csv\")"
   ]
  },
  {
   "cell_type": "code",
   "execution_count": 4,
   "metadata": {},
   "outputs": [],
   "source": [
    "data = pitch_df[['ab_id','b_count','b_score','end_speed','nasty','on_1b','on_2b','on_3b','outs','pitch_num','pitch_type']]"
   ]
  },
  {
   "cell_type": "code",
   "execution_count": 5,
   "metadata": {},
   "outputs": [
    {
     "data": {
      "text/html": [
       "<div>\n",
       "<style scoped>\n",
       "    .dataframe tbody tr th:only-of-type {\n",
       "        vertical-align: middle;\n",
       "    }\n",
       "\n",
       "    .dataframe tbody tr th {\n",
       "        vertical-align: top;\n",
       "    }\n",
       "\n",
       "    .dataframe thead th {\n",
       "        text-align: right;\n",
       "    }\n",
       "</style>\n",
       "<table border=\"1\" class=\"dataframe\">\n",
       "  <thead>\n",
       "    <tr style=\"text-align: right;\">\n",
       "      <th></th>\n",
       "      <th>at_bat_id</th>\n",
       "      <th>ball_count</th>\n",
       "      <th>batter_team_score</th>\n",
       "      <th>pitch_speed_at_home_plate</th>\n",
       "      <th>pitch_speed</th>\n",
       "      <th>on_1b</th>\n",
       "      <th>on_2b</th>\n",
       "      <th>on_3b</th>\n",
       "      <th>outs</th>\n",
       "      <th>pitch_num</th>\n",
       "      <th>pitch_type</th>\n",
       "    </tr>\n",
       "  </thead>\n",
       "  <tbody>\n",
       "    <tr>\n",
       "      <th>0</th>\n",
       "      <td>2.015000e+09</td>\n",
       "      <td>0</td>\n",
       "      <td>0</td>\n",
       "      <td>84.1</td>\n",
       "      <td>55.0</td>\n",
       "      <td>False</td>\n",
       "      <td>False</td>\n",
       "      <td>False</td>\n",
       "      <td>0</td>\n",
       "      <td>1</td>\n",
       "      <td>FF</td>\n",
       "    </tr>\n",
       "    <tr>\n",
       "      <th>1</th>\n",
       "      <td>2.015000e+09</td>\n",
       "      <td>0</td>\n",
       "      <td>0</td>\n",
       "      <td>84.1</td>\n",
       "      <td>31.0</td>\n",
       "      <td>False</td>\n",
       "      <td>False</td>\n",
       "      <td>False</td>\n",
       "      <td>0</td>\n",
       "      <td>2</td>\n",
       "      <td>FF</td>\n",
       "    </tr>\n",
       "    <tr>\n",
       "      <th>2</th>\n",
       "      <td>2.015000e+09</td>\n",
       "      <td>0</td>\n",
       "      <td>0</td>\n",
       "      <td>85.2</td>\n",
       "      <td>49.0</td>\n",
       "      <td>False</td>\n",
       "      <td>False</td>\n",
       "      <td>False</td>\n",
       "      <td>0</td>\n",
       "      <td>3</td>\n",
       "      <td>FF</td>\n",
       "    </tr>\n",
       "    <tr>\n",
       "      <th>3</th>\n",
       "      <td>2.015000e+09</td>\n",
       "      <td>0</td>\n",
       "      <td>0</td>\n",
       "      <td>84.0</td>\n",
       "      <td>41.0</td>\n",
       "      <td>False</td>\n",
       "      <td>False</td>\n",
       "      <td>False</td>\n",
       "      <td>0</td>\n",
       "      <td>4</td>\n",
       "      <td>FF</td>\n",
       "    </tr>\n",
       "    <tr>\n",
       "      <th>4</th>\n",
       "      <td>2.015000e+09</td>\n",
       "      <td>1</td>\n",
       "      <td>0</td>\n",
       "      <td>69.6</td>\n",
       "      <td>18.0</td>\n",
       "      <td>False</td>\n",
       "      <td>False</td>\n",
       "      <td>False</td>\n",
       "      <td>0</td>\n",
       "      <td>5</td>\n",
       "      <td>CU</td>\n",
       "    </tr>\n",
       "  </tbody>\n",
       "</table>\n",
       "</div>"
      ],
      "text/plain": [
       "      at_bat_id  ball_count  batter_team_score  pitch_speed_at_home_plate  \\\n",
       "0  2.015000e+09           0                  0                       84.1   \n",
       "1  2.015000e+09           0                  0                       84.1   \n",
       "2  2.015000e+09           0                  0                       85.2   \n",
       "3  2.015000e+09           0                  0                       84.0   \n",
       "4  2.015000e+09           1                  0                       69.6   \n",
       "\n",
       "   pitch_speed  on_1b  on_2b  on_3b  outs  pitch_num pitch_type  \n",
       "0         55.0  False  False  False     0          1         FF  \n",
       "1         31.0  False  False  False     0          2         FF  \n",
       "2         49.0  False  False  False     0          3         FF  \n",
       "3         41.0  False  False  False     0          4         FF  \n",
       "4         18.0  False  False  False     0          5         CU  "
      ]
     },
     "execution_count": 5,
     "metadata": {},
     "output_type": "execute_result"
    }
   ],
   "source": [
    "data = data.rename(index=str, columns={\"ab_id\": \"at_bat_id\", \"b_count\": \"ball_count\", 'b_score':'batter_team_score',\\\n",
    "                               \"end_speed\":\"pitch_speed_at_home_plate\",'nasty':'pitch_speed'})\n",
    "data.head()"
   ]
  },
  {
   "cell_type": "code",
   "execution_count": 6,
   "metadata": {},
   "outputs": [],
   "source": [
    "pitch_type = data.groupby(\"pitch_type\")[\"pitch_speed_at_home_plate\"].mean()"
   ]
  },
  {
   "cell_type": "code",
   "execution_count": 7,
   "metadata": {},
   "outputs": [
    {
     "data": {
      "text/plain": [
       "pitch_type\n",
       "AB    70.711111\n",
       "CH    77.339375\n",
       "CU    72.005719\n",
       "EP    61.752270\n",
       "FA    81.988889\n",
       "Name: pitch_speed_at_home_plate, dtype: float64"
      ]
     },
     "execution_count": 7,
     "metadata": {},
     "output_type": "execute_result"
    }
   ],
   "source": [
    "pitch_type.head()"
   ]
  },
  {
   "cell_type": "code",
   "execution_count": 8,
   "metadata": {},
   "outputs": [
    {
     "data": {
      "text/plain": [
       "<matplotlib.axes._subplots.AxesSubplot at 0x258e0a84828>"
      ]
     },
     "execution_count": 8,
     "metadata": {},
     "output_type": "execute_result"
    },
    {
     "data": {
      "image/png": "[encoded data removed]",
      "text/plain": [
       "<Figure size 432x288 with 1 Axes>"
      ]
     },
     "metadata": {},
     "output_type": "display_data"
    }
   ],
   "source": [
    "plt.ylabel(\"Pitch Type\")\n",
    "plt.yticks(np.arange(len(pitch_type)), [\"Straight\",\"Change Up\",\"Curve Ball\",\"Eephus\",\"Fast Ball\"])\n",
    "plt.xlabel(\"Speed MPH\")\n",
    "plt.title(\"Speed per Pitch Type\")\n",
    "plt.grid(alpha=.25)\n",
    "pitch_type.hist(color=\"r\",alpha=.25)\n",
    "\n",
    "#It could be noted that Off types of pitches can be signficantlly slower i.e(Eephus / Curve) and are meant to create \n",
    "#a movement diversion as the pitch reaches homeplate.  This data corroborates this assumption. "
   ]
  },
  {
   "cell_type": "code",
   "execution_count": null,
   "metadata": {},
   "outputs": [],
   "source": []
  },
  {
   "cell_type": "code",
   "execution_count": 9,
   "metadata": {},
   "outputs": [],
   "source": [
    "avg_pitcher_speed = data.groupby(\"at_bat_id\")[\"pitch_speed_at_home_plate\"].mean()"
   ]
  },
  {
   "cell_type": "code",
   "execution_count": 10,
   "metadata": {},
   "outputs": [
    {
     "data": {
      "text/plain": [
       "[<matplotlib.lines.Line2D at 0x258ada7bba8>]"
      ]
     },
     "execution_count": 10,
     "metadata": {},
     "output_type": "execute_result"
    },
    {
     "data": {
      "image/png": "[encoded data removed]",
      "text/plain": [
       "<Figure size 432x288 with 1 Axes>"
      ]
     },
     "metadata": {},
     "output_type": "display_data"
    }
   ],
   "source": [
    "plt.title(\"Average Pitch speeds per Pitcher\")\n",
    "plt.xlabel(\"Pitchers\")\n",
    "plt.ylabel(\"Speed MPH\")\n",
    "plt.plot(avg_pitcher_speed,color='g',linestyle=\"--\",alpha=.55)\n",
    "#The Data does not present what the pitchers names are, and are organized by number. "
   ]
  },
  {
   "cell_type": "code",
   "execution_count": 11,
   "metadata": {},
   "outputs": [
    {
     "data": {
      "text/plain": [
       "<matplotlib.collections.PathCollection at 0x258adaf6fd0>"
      ]
     },
     "execution_count": 11,
     "metadata": {},
     "output_type": "execute_result"
    },
    {
     "data": {
      "image/png": "[encoded data removed]",
      "text/plain": [
       "<Figure size 432x288 with 1 Axes>"
      ]
     },
     "metadata": {},
     "output_type": "display_data"
    }
   ],
   "source": [
    "plt.xlabel(\"Ball Count\")\n",
    "plt.ylabel(\"Speed MPH\")\n",
    "plt.title(\"Pitch speed per Ball Count\")\n",
    "plt.hlines(60,0,4,linestyle=\"--\", color=\"r\", alpha=.55)\n",
    "plt.scatter(data[\"ball_count\"],data[\"pitch_speed_at_home_plate\"], color=\"white\", edgecolor='black')\n",
    "#It appears the closer a batter is to walk does not impact pitch speeds and remains relativel constant."
   ]
  },
  {
   "cell_type": "code",
   "execution_count": null,
   "metadata": {},
   "outputs": [],
   "source": [
    "plt.xlabel(\"Outs\")\n",
    "plt.ylabel(\"Speed MPH\")\n",
    "plt.title(\"Pitch speed per out Count\")\n",
    "plt.hlines(60,0,2,linestyle=\"--\", color=\"b\", alpha=.55)\n",
    "plt.scatter(data[\"outs\"],data[\"pitch_speed_at_home_plate\"], color=\"white\", edgecolor='red')\n",
    "plt.savefig(\"speedpercount.png\")\n",
    "#It apperas the out count does not affect pitch speed either.  I made a wrong assumption\n",
    "#that as out's increased, it may increase edginess and cause anxiety / higher pitches."
   ]
  },
  {
   "cell_type": "code",
   "execution_count": null,
   "metadata": {},
   "outputs": [],
   "source": [
    "plt.xlabel(\"pitch count\")\n",
    "plt.ylabel(\"Speed MPH\")\n",
    "plt.title(\"Pitch speed per Pitch Count\")\n",
    "plt.hlines(60,0,20,linestyle=\"--\", color=\"y\", alpha=.55)\n",
    "plt.scatter(data[\"pitch_num\"],data[\"pitch_speed_at_home_plate\"], color=\"white\", edgecolor='red')\n",
    "#As  pitcher warms up, it appears the pitcher is more consistent in throowing higher speeds. "
   ]
  },
  {
   "cell_type": "code",
   "execution_count": null,
   "metadata": {},
   "outputs": [],
   "source": [
    "x1 = [\"Straight\",\"Change Up\",\"Curve Ball\",\"Eephus\",\"Fast Ball\"]\n",
    "y1 = [81.96666666666667, 83.85, 83.8, 79.3, 84.22]\n",
    "\n",
    "# (2) Make dictionary linking x and y coordinate lists to 'x' and 'y' keys\n",
    "trace1 = dict(x=x1, y=y1)\n",
    "\n",
    "# (3) Make list of 1 trace, to be sent to Plotly\n",
    "data = [trace1]"
   ]
  },
  {
   "cell_type": "code",
   "execution_count": null,
   "metadata": {},
   "outputs": [],
   "source": [
    "py.iplot(data, filename='Project 2 Plot')\n",
    "#a duplicate plot of Average Speed per Pitch Type\n",
    "#a seaborn plot is located on my page @ plotly https://plot.ly/~mikeriano"
   ]
  },
  {
   "cell_type": "code",
   "execution_count": null,
   "metadata": {},
   "outputs": [],
   "source": []
  },
  {
   "cell_type": "code",
   "execution_count": null,
   "metadata": {},
   "outputs": [],
   "source": []
  },
  {
   "cell_type": "code",
   "execution_count": null,
   "metadata": {},
   "outputs": [],
   "source": []
  }
 ],
 "metadata": {
  "kernelspec": {
   "display_name": "Python 3",
   "language": "python",
   "name": "python3"
  },
  "language_info": {
   "codemirror_mode": {
    "name": "ipython",
    "version": 3
   },
   "file_extension": ".py",
   "mimetype": "text/x-python",
   "name": "python",
   "nbconvert_exporter": "python",
   "pygments_lexer": "ipython3",
   "version": "3.6.5"
  }
 },
 "nbformat": 4,
 "nbformat_minor": 2
}
