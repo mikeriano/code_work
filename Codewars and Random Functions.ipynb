{
 "cells": [
  {
   "cell_type": "code",
   "execution_count": 1,
   "metadata": {},
   "outputs": [],
   "source": [
    "#Code Wars / Random Functions I wrote#\n",
    "#See my codewars profile @ https://www.codewars.com/users/mikeriano/completed_solutions #\n"
   ]
  },
  {
   "cell_type": "code",
   "execution_count": 2,
   "metadata": {},
   "outputs": [],
   "source": [
    "#Function to find next perfect square#\n",
    "#Corresponds to code wars' https://www.codewars.com/kata/56269eb78ad2e4ced1000013#\n",
    "import math\n",
    "def find_next_square(sq):\n",
    "    z = int(math.sqrt(sq)) / math.sqrt(sq)\n",
    "    if z != 1:\n",
    "        return(-1)\n",
    "    else:\n",
    "        a = math.sqrt(sq)\n",
    "        b = (a+1)**2\n",
    "        return int(b)"
   ]
  },
  {
   "cell_type": "code",
   "execution_count": 3,
   "metadata": {},
   "outputs": [
    {
     "data": {
      "text/plain": [
       "169"
      ]
     },
     "execution_count": 3,
     "metadata": {},
     "output_type": "execute_result"
    }
   ],
   "source": [
    "find_next_square(144)#144 = 12 next perfect would be 13**2 or 169**"
   ]
  },
  {
   "cell_type": "code",
   "execution_count": 5,
   "metadata": {},
   "outputs": [],
   "source": [
    "#Function to remove anything but string and then reverse it#\n",
    "#Corresponds to code wars' https://www.codewars.com/kata/58b8c94b7df3f116eb00005b#\n",
    "def reverse_letter(string):\n",
    "    return \"\".join(reversed([x for x in string if x.isalpha()]))"
   ]
  },
  {
   "cell_type": "code",
   "execution_count": 7,
   "metadata": {},
   "outputs": [
    {
     "data": {
      "text/plain": [
       "'adjkfjdkslja'"
      ]
     },
     "execution_count": 7,
     "metadata": {},
     "output_type": "execute_result"
    }
   ],
   "source": [
    "reverse_letter(\"ajlskdjf1324328380&*1#$!#kjda\")"
   ]
  },
  {
   "cell_type": "code",
   "execution_count": 8,
   "metadata": {},
   "outputs": [],
   "source": [
    "#Function to remove vowels from a given string#\n",
    "#Corresponds to code wars' https://www.codewars.com/kata/52fba66badcd10859f00097e#\n",
    "def disemvowel(string):\n",
    "    disemvoweled = []\n",
    "    voweled = []\n",
    "    \n",
    "    for char in string:\n",
    "        if char in \"aeiou\" or char in \"AEIOU\":\n",
    "            voweled.append(char)\n",
    "        else:\n",
    "            disemvoweled.append(char)\n",
    "\n",
    "    disemvoweled = \"\".join(disemvoweled)\n",
    "\n",
    "    return disemvoweled"
   ]
  },
  {
   "cell_type": "code",
   "execution_count": 9,
   "metadata": {},
   "outputs": [
    {
     "data": {
      "text/plain": [
       "'Prctc mks prfct rght?'"
      ]
     },
     "execution_count": 9,
     "metadata": {},
     "output_type": "execute_result"
    }
   ],
   "source": [
    "disemvowel(\"Practice makes perfect right?\")"
   ]
  },
  {
   "cell_type": "code",
   "execution_count": 17,
   "metadata": {},
   "outputs": [],
   "source": [
    "#Function to check if a string is sorted#\n",
    "#Corresponds to code wars' https://www.codewars.com/kata/5a8059b1fd577709860000f6#\n",
    "def alphabetic(s):\n",
    "    x = s == \"\".join(sorted(s.lower()))\n",
    "    return x"
   ]
  },
  {
   "cell_type": "code",
   "execution_count": 18,
   "metadata": {},
   "outputs": [
    {
     "data": {
      "text/plain": [
       "False"
      ]
     },
     "execution_count": 18,
     "metadata": {},
     "output_type": "execute_result"
    }
   ],
   "source": [
    "alphabetic(\"Hello\")"
   ]
  },
  {
   "cell_type": "code",
   "execution_count": 20,
   "metadata": {},
   "outputs": [],
   "source": [
    "#Function to reverse a number from highest to lowest#\n",
    "#Corresponds to code wars' https://www.codewars.com/kata/5467e4d82edf8bbf40000155#\n",
    "def Descending_Order(num):\n",
    "    num = sorted(list(str(num)))\n",
    "    numb = reversed(list(num))\n",
    "    y = \"\".join(numb)\n",
    "    return int(y)\n"
   ]
  },
  {
   "cell_type": "code",
   "execution_count": 22,
   "metadata": {},
   "outputs": [
    {
     "data": {
      "text/plain": [
       "8743210"
      ]
     },
     "execution_count": 22,
     "metadata": {},
     "output_type": "execute_result"
    }
   ],
   "source": [
    "Descending_Order(\"1234780\")#as string"
   ]
  },
  {
   "cell_type": "code",
   "execution_count": 23,
   "metadata": {},
   "outputs": [
    {
     "data": {
      "text/plain": [
       "9843322"
      ]
     },
     "execution_count": 23,
     "metadata": {},
     "output_type": "execute_result"
    }
   ],
   "source": [
    "Descending_Order(8932432)#as Integer"
   ]
  },
  {
   "cell_type": "code",
   "execution_count": 24,
   "metadata": {},
   "outputs": [],
   "source": [
    "#Function to read capitals in a given string and give the index#\n",
    "#Corresponds to code wars' https://www.codewars.com/kata/539ee3b6757843632d00026b#\n",
    "def capitals(word):\n",
    "    return[i for i, c in enumerate(word) if c.isupper()]"
   ]
  },
  {
   "cell_type": "code",
   "execution_count": 25,
   "metadata": {},
   "outputs": [
    {
     "data": {
      "text/plain": [
       "[0, 1, 2, 3, 4]"
      ]
     },
     "execution_count": 25,
     "metadata": {},
     "output_type": "execute_result"
    }
   ],
   "source": [
    "capitals(\"AEIOU\")"
   ]
  },
  {
   "cell_type": "code",
   "execution_count": 26,
   "metadata": {},
   "outputs": [],
   "source": [
    "#Slaphead#\n",
    "#SEE https://www.codewars.com/kata/57efab9acba9daa4d1000b30 for reason this was created#\n",
    "def bald(s):\n",
    "    count = 0\n",
    "    tick = \"\"\n",
    "    holder = []\n",
    "    for hair in s:\n",
    "        if \"/\" in hair:\n",
    "            count = count + 1\n",
    "\n",
    "    char = \"-\"\n",
    "    var = len(s) * char\n",
    "    print(var)\n",
    "            \n",
    "    if count == 0:\n",
    "        return [var,'Clean!']\n",
    "    if count == 1:\n",
    "        return [var,'Unicorn!']\n",
    "    elif count == 2:\n",
    "        return [var,'Homer!']\n",
    "    elif count <= 5:\n",
    "        return [var,'Careless!']\n",
    "    elif count > 5:\n",
    "        return [var,'Hobo!']"
   ]
  },
  {
   "cell_type": "code",
   "execution_count": 29,
   "metadata": {},
   "outputs": [
    {
     "name": "stdout",
     "output_type": "stream",
     "text": [
      "---------------------------------------------------\n"
     ]
    },
    {
     "data": {
      "text/plain": [
       "['---------------------------------------------------', 'Careless!']"
      ]
     },
     "execution_count": 29,
     "metadata": {},
     "output_type": "execute_result"
    }
   ],
   "source": [
    "bald(\"//------------------------------------------/------\")"
   ]
  },
  {
   "cell_type": "code",
   "execution_count": 30,
   "metadata": {},
   "outputs": [],
   "source": [
    "#Function I wrote as a challenge to find 5's in your choice of range and range of random int choices#\n",
    "import random\n",
    "\n",
    "def five_counter(x,a,b):\n",
    "    lis = []\n",
    "    count = 0\n",
    "    for i in range(x):\n",
    "        lis.append(random.randint(a,b))\n",
    "    print(lis)\n",
    "    for item in lis:\n",
    "        if item == 5:\n",
    "            count = count + 1\n",
    "\n",
    "    return count"
   ]
  },
  {
   "cell_type": "code",
   "execution_count": 33,
   "metadata": {},
   "outputs": [],
   "source": [
    "#Function I wrote to switch variables without writing a forloop or a third variable#\n",
    "def switcher(a,b):\n",
    "    a,b=b,a\n",
    "    return a,b"
   ]
  },
  {
   "cell_type": "code",
   "execution_count": 34,
   "metadata": {},
   "outputs": [
    {
     "data": {
      "text/plain": [
       "(4, 3)"
      ]
     },
     "execution_count": 34,
     "metadata": {},
     "output_type": "execute_result"
    }
   ],
   "source": [
    "switcher(3,4)"
   ]
  },
  {
   "cell_type": "code",
   "execution_count": 35,
   "metadata": {},
   "outputs": [
    {
     "data": {
      "text/plain": [
       "([4321], [1234])"
      ]
     },
     "execution_count": 35,
     "metadata": {},
     "output_type": "execute_result"
    }
   ],
   "source": [
    "switcher([1234],[4321])"
   ]
  },
  {
   "cell_type": "code",
   "execution_count": null,
   "metadata": {},
   "outputs": [],
   "source": []
  }
 ],
 "metadata": {
  "kernelspec": {
   "display_name": "Python 3",
   "language": "python",
   "name": "python3"
  },
  "language_info": {
   "codemirror_mode": {
    "name": "ipython",
    "version": 3
   },
   "file_extension": ".py",
   "mimetype": "text/x-python",
   "name": "python",
   "nbconvert_exporter": "python",
   "pygments_lexer": "ipython3",
   "version": "3.6.5"
  }
 },
 "nbformat": 4,
 "nbformat_minor": 2
}
